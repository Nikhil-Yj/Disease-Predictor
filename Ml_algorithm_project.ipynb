{
 "cells": [
  {
   "cell_type": "code",
   "metadata": {
    "tags": [],
    "cell_id": "00005-660838c4-8a8e-4b90-86c8-43496aa6d272",
    "deepnote_to_be_reexecuted": false,
    "source_hash": "4bc88069",
    "execution_start": 1630399389049,
    "execution_millis": 45,
    "deepnote_cell_type": "code"
   },
   "source": "# Model Class \n\nimport pandas as pd \nimport numpy as np \nfrom sklearn.preprocessing import LabelEncoder\nfrom sklearn.ensemble import RandomForestClassifier\nimport pickle \n\nclass Model :\n    def __init__(self):\n        self.model = pickle.load(open('model.sav','rb')) \n        train_data = pd.read_csv('train_data.csv')\n        self.X_train = train_data.drop('Diseases', axis = 1)\n        self.y_train = train_data.loc[:,['Diseases']]    \n        self.le = LabelEncoder()\n        self.le.fit(self.y_train)\n\n    def predict(self,selected_cols=[]):\n        if (len(selected_cols)>0) : \n            n = len(self.X_train.columns)\n            symptoms = self.X_train.columns\n            X = pd.DataFrame(np.zeros((1,n)), columns = symptoms)\n            for col in selected_cols : \n                X.loc[0,col] = 1 \n            res = [[indx,prob] for indx,prob  in enumerate(self.model.predict_proba(X).reshape(-1)) ]\n            res = sorted(res,key=lambda x : -x[1])\n            res = res[:5]\n            for i in range(5) : \n                res[i][0] = self.le.inverse_transform([res[i][0]])[0]\n            print(res)\n\ncl = Model()   ",
   "execution_count": null,
   "outputs": [
    {
     "name": "stderr",
     "text": "/shared-libs/python3.9/py/lib/python3.9/site-packages/sklearn/utils/validation.py:63: DataConversionWarning: A column-vector y was passed when a 1d array was expected. Please change the shape of y to (n_samples, ), for example using ravel().\n  return f(*args, **kwargs)\n",
     "output_type": "stream"
    }
   ]
  },
  {
   "cell_type": "code",
   "metadata": {
    "tags": [],
    "cell_id": "00006-e16e5ed2-7a2a-4224-a85a-0d9b3d604adb",
    "deepnote_to_be_reexecuted": false,
    "source_hash": "f3a77726",
    "execution_start": 1630399733269,
    "execution_millis": 105,
    "deepnote_cell_type": "code"
   },
   "source": "# Data Class\n \n\nimport pandas as pd \nimport numpy as np \n\nclass Data() : \n    def __init__(self) :\n        self.data = pd.read_csv('train_data.csv')\n        self.symptoms_df = pd.read_csv('Symptoms.csv')\n        self.code_sym = [col for col in self.data.columns if col!='Diseases']\n        self.descriptions = { col : list( self.symptoms_df[ self.symptoms_df['Code'] == col ]['Description'] )[0] \\\n                                    for col in self.code_sym }\n        freq_counts = { col : self.data[col].sum() for col in self.code_sym}\n        freq_counts = {k: v for k,v in sorted(freq_counts.items(), key= lambda item : -item[1]) }\n        freq_counts_keys = list(freq_counts.keys())\n        \n        self.prev_options = np.random.choice(freq_counts_keys[:20],10, replace=False)\n        self.prev_options_des = [self.descriptions[col] for col in self.prev_options]\n        self.cur_options = [{'label':label , 'value':value } for label,value in zip(self.prev_options_des,self.prev_options) ]\n        self.rem_options = [col for col in self.code_sym ]\n        # self.selected_so_far = [] \n        self.fig = dict({\n                        \"data\": [{\"type\": \"bar\",\n                        \"x\": [],\n                        \"y\": []}],\n                        \"layout\": {\"title\": {\"text\": \"Disease vs their probabilities\"}}\n                    })\n        self.female_symp = ['fm_'+str(i) for i in range(6) ]\n\n    def update_options(self, selected_options):\n        new_options = []\n\n        # case-1 : No option selected \n        if (len(selected_options) == 0 ):\n            self.rem_options = [col for col in self.rem_options if col not in self.prev_options]\n            new_options = self.rem_options[:6]\n            new_options.extend(self.rem_options[-1:-5:-1])\n            new_options = list(set(new_options))\n            self.prev_options = new_options \n\n        # case - 2 : At least 1 options selected\n        elif(len(selected_options)>0):\n            self.rem_options = [col for col in self.rem_options if col not in self.prev_options]\n            tmp_data = self.data[ self.data[ selected_options ].sum(axis=1)>0 ][ self.rem_options ]\n            tmp_cols_sum = tmp_data.sum(axis=0)\n            tmp_cols_sum = tmp_cols_sum[tmp_cols_sum>0]\n            tmp_cols_sum= tmp_cols_sum.sort_values(ascending=False)\n            new_options = list(tmp_cols_sum.index[:6])\n            new_options.extend(list(tmp_cols_sum.index[-1:-5:-1]))\n            new_options = list(set(new_options))\n            self.prev_options = new_options \n\n            del tmp_data, tmp_cols_sum \n\n        \n        self.prev_options_des = [self.descriptions[col] for col in self.prev_options ]\n        self.cur_options = [{'label':label,'value':value} for label,value in zip(self.prev_options_des,self.prev_options)]\n\n        del new_options\n\n        return self.cur_options\n\ndl = Data() ",
   "execution_count": null,
   "outputs": []
  },
  {
   "cell_type": "code",
   "metadata": {
    "tags": [],
    "cell_id": "00007-e7ad32ae-31e1-495d-9470-3fe0f13eb375",
    "deepnote_to_be_reexecuted": false,
    "source_hash": "b360f676",
    "execution_start": 1630399766350,
    "execution_millis": 29,
    "deepnote_cell_type": "code"
   },
   "source": "# import libraries  dash, dcc, html , Input, Output \nimport dash\nimport dash_core_components as dcc \nimport dash_html_components as html\nfrom dash.dependencies import Input, Output\n# from Model_class_file_name import cl \n# from Data_class_file_name import dl\n\ndisp_options = dl.cur_options \n\n# initialise app \nApp = dash.Dash(title = \"Disease - Predictor\")\n\nstyles = { \n            'background' : '#111111', \n            'text'   : '#7FDBFF',\n            'font-size' : '50px'\n        }\n\nApp.layout = html.Div(\n    [\n        html.H2('Disease - Predictor', style = {'textAlign': 'center', 'color': styles['text']} ),\n        html.Hr(),\n        html.Div(\n            [\n                html.Div(\n                    [\n                        html.H4('Gender:', style = {'display':'inline'} ),\n                        dcc.RadioItems(id='gender',\n                            options = [\n                                {'label': 'Male', 'value' : 'M'},\n                                {'label': 'Female', 'value' : 'F'},\n                                {'label': 'Prefer not to say', 'value' : 'O'}\n                            ],\n                            style= {'display':'inline'}\n\n\n                        ),\n                        \n                    ],\n\n                ),\n\n                html.Div(\n                    [\n                        html.H4('Age(5-99):'),\n                        dcc.Input(type = 'number', min = 5, max = 99),\n                    ], \n                    style = {'columnCount': 2, 'width': '50%'}\n                ),\n                \n            ], style = {'columnCount': 2, 'margin':'15px'}\n        ),\n        html.Div(\n            [\n                html.H4('Select Symptoms :-'),\n                dcc.Checklist(\n                    options = disp_options ,\n                    labelStyle = {'display': 'block', 'margin':'10px'},\n                    id = 'disp-options'\n                    value = []\n                    \n                    \n                ),\n            ], \n            style = {'height':'330px'}\n        ),\n        html.Hr() ,\n        html.Button('Next',id='next-button',n_clicks=0, \n                    style={'height':'30px','width':'70px'}),\n        dcc.Graph(id='bar-plot'),\n\n       ],\n)\n\n@App.callback(\n    Output(component_id = 'disp_options', component_property = 'options' ),\n    Output(component_id = 'next-button', component_property = 'n_clicks'),\n    Output(component_id = 'bar-plot', component_property = 'figure'),\n    Input(component_id = 'disp_options', component_property = 'options'),\n    Input(component_id = 'disp_options', component_property = 'value')\n    Input(component_id = 'next-button', component_property = 'n_clicks'),\n    Input(component_id = 'bar-plot', component_property = 'figure')\n)\n\ndef callback_function_1(options, selected_options, n_clicks, figure):\n    if(n_clicks):\n        options = dl.update_options(selected_options)\n        n_clicks = 0\n        if(len(selected_options)>0):\n            predictions = cl.predict(selected_options)\n            predictions = list(predictions.loc[:,'Diseases'])\n            probability = list(predictions.loc[:,'prob'])\n            dl.fig['data'][0]['x'] = predictions\n            dl.fig['data'][0]['y'] = probability\n\n            figure = dl.fig\n    return options, n_clicks, figure\n\n\n@App.callback(\n    Output(component_id='gender',component_property='value'),\n    Input(component_id='gender',component_property='value')\n)\ndef callback_function_2(gender) : \n    if (gender == None) : \n        dash.exceptions.PreventUpdate\n    if (gender == 'M') :\n        dl.rem_options = [col for col in dl.rem_options if col not in dl.female_symp ]\n    return gender \n\nApp.run_server(debug = True)\n\n\n",
   "execution_count": null,
   "outputs": [
    {
     "output_type": "error",
     "ename": "ModuleNotFoundError",
     "evalue": "No module named 'dash'",
     "traceback": [
      "\u001b[0;31m---------------------------------------------------------------------------\u001b[0m",
      "\u001b[0;31mModuleNotFoundError\u001b[0m                       Traceback (most recent call last)",
      "\u001b[0;32m/tmp/ipykernel_62/2562155915.py\u001b[0m in \u001b[0;36m<module>\u001b[0;34m\u001b[0m\n\u001b[1;32m      1\u001b[0m \u001b[0;31m# import libraries  dash, dcc, html , Input, Output\u001b[0m\u001b[0;34m\u001b[0m\u001b[0;34m\u001b[0m\u001b[0;34m\u001b[0m\u001b[0m\n\u001b[0;32m----> 2\u001b[0;31m \u001b[0;32mimport\u001b[0m \u001b[0mdash\u001b[0m\u001b[0;34m\u001b[0m\u001b[0;34m\u001b[0m\u001b[0m\n\u001b[0m\u001b[1;32m      3\u001b[0m \u001b[0;32mimport\u001b[0m \u001b[0mdash_core_components\u001b[0m \u001b[0;32mas\u001b[0m \u001b[0mdcc\u001b[0m\u001b[0;34m\u001b[0m\u001b[0;34m\u001b[0m\u001b[0m\n\u001b[1;32m      4\u001b[0m \u001b[0;32mimport\u001b[0m \u001b[0mdash_html_components\u001b[0m \u001b[0;32mas\u001b[0m \u001b[0mhtml\u001b[0m\u001b[0;34m\u001b[0m\u001b[0;34m\u001b[0m\u001b[0m\n\u001b[1;32m      5\u001b[0m \u001b[0;32mfrom\u001b[0m \u001b[0mdash\u001b[0m\u001b[0;34m.\u001b[0m\u001b[0mdependencies\u001b[0m \u001b[0;32mimport\u001b[0m \u001b[0mInput\u001b[0m\u001b[0;34m,\u001b[0m \u001b[0mOutput\u001b[0m\u001b[0;34m\u001b[0m\u001b[0;34m\u001b[0m\u001b[0m\n",
      "\u001b[0;31mModuleNotFoundError\u001b[0m: No module named 'dash'"
     ]
    }
   ]
  },
  {
   "cell_type": "code",
   "metadata": {
    "tags": [],
    "cell_id": "00004-0ce3b8a8-8b2c-4431-bbbb-2eeea9a376ed",
    "deepnote_cell_type": "code"
   },
   "source": "",
   "execution_count": null,
   "outputs": []
  },
  {
   "cell_type": "markdown",
   "source": "<a style='text-decoration:none;line-height:16px;display:flex;color:#5B5B62;padding:10px;justify-content:end;' href='https://deepnote.com?utm_source=created-in-deepnote-cell&projectId=a12a1b37-24ed-400a-a1a4-4803ffdccc47' target=\"_blank\">\n<img alt='Created in deepnote.com' style='display:inline;max-height:16px;margin:0px;margin-right:7.5px;' src='data:image/svg+xml;base64,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' > </img>\nCreated in <span style='font-weight:600;margin-left:4px;'>Deepnote</span></a>",
   "metadata": {
    "tags": [],
    "created_in_deepnote_cell": true,
    "deepnote_cell_type": "markdown"
   }
  }
 ],
 "nbformat": 4,
 "nbformat_minor": 2,
 "metadata": {
  "orig_nbformat": 2,
  "deepnote": {
   "is_reactive": false
  },
  "deepnote_notebook_id": "59647b02-f8d0-4aa4-a917-9350e4254d60",
  "deepnote_execution_queue": []
 }
}